{
 "cells": [
  {
   "cell_type": "code",
   "execution_count": null,
   "id": "f03d8110",
   "metadata": {},
   "outputs": [],
   "source": [
    "import io\n",
    "import logging\n",
    "import pyarrow.dataset as ds\n",
    "import numpy as np\n",
    "import pandas as pd\n",
    "from pathlib import Path\n",
    "import matplotlib.pyplot as plt\n",
    "from typing import Dict, List\n",
    "from bs4 import BeautifulSoup"
   ]
  },
  {
   "cell_type": "code",
   "execution_count": null,
   "id": "f89d746a",
   "metadata": {},
   "outputs": [],
   "source": [
    "logging.basicConfig(filename = 'log.txt', level = logging.DEBUG, format='%(asctime)s %(levelname)s %(message)s')"
   ]
  },
  {
   "cell_type": "code",
   "execution_count": null,
   "id": "b1defc0c",
   "metadata": {},
   "outputs": [],
   "source": [
    "PATH_DATA = Path(r'C:/Git/HonoursProject/ipw-classifier/ipw_classifier/data/')\n",
    "PARQUET_SUFFIX = '.parquet'"
   ]
  },
  {
   "cell_type": "code",
   "execution_count": null,
   "id": "792e251a",
   "metadata": {},
   "outputs": [],
   "source": [
    "def _parse(table_name: str) -> pd.DataFrame:\n",
    "    parquet_path = PATH_DATA / f\"{table_name}{PARQUET_SUFFIX}\"\n",
    "    table = ds.dataset(parquet_path).to_table()\n",
    "    df = table.to_pandas()\n",
    "\n",
    "    logging.info(f'Number of records in table {table_name}: {len(df)}')\n",
    "\n",
    "    if 'case_id' in df.columns:\n",
    "        if not df['case_id'].is_unique:\n",
    "            raise ValueError(f'Duplicate values found in \"case_id\" column in table {table_name}.')\n",
    "        \n",
    "        df.rename(columns = {'id': f'{table_name}_id'}, inplace = True)\n",
    "    \n",
    "    columns_to_drop = set([\n",
    "        'author',\n",
    "        'rights', \n",
    "        'created',\n",
    "        'updated',\n",
    "        'deleted',\n",
    "        'owners',\n",
    "        'source',\n",
    "        'closed'\n",
    "        ])\n",
    "    columns = columns_to_drop.intersection(set(df.columns))  \n",
    "    \n",
    "    for col_name in columns:\n",
    "        df.drop(col_name, axis = 1, inplace = True)\n",
    "    return df"
   ]
  },
  {
   "cell_type": "code",
   "execution_count": null,
   "id": "1ab049da",
   "metadata": {},
   "outputs": [],
   "source": [
    "def main():\n",
    "    case = _parse('case')\n",
    "    situation = _parse('situation')\n",
    "    plan = _parse('plan')\n",
    "    \n",
    "    df_sit_pln = plan.merge(situation, left_on = 'case_id', right_on = 'case_id', how = 'outer', suffixes = ('_pln', '_sit'))\n",
    "    df = df_sit_pln.merge(case, left_on = 'case_id', right_on = 'id', how = 'left')\n",
    "    logging.info(f'Number of records in combined table: {len(df)}')\n",
    "    df = df[df['status'] == 'closed']\n",
    "    logging.info(f'Number of closed records in combined table: {len(df)}')\n",
    "    \n",
    "    df.drop('case_id', axis = 1, inplace = True)\n",
    "    return df"
   ]
  },
  {
   "cell_type": "code",
   "execution_count": null,
   "id": "8e0ecf8e",
   "metadata": {},
   "outputs": [],
   "source": [
    "df_in = main()"
   ]
  },
  {
   "cell_type": "code",
   "execution_count": null,
   "id": "23c0a2fe",
   "metadata": {},
   "outputs": [],
   "source": [
    "to_drop = [\n",
    "    'plan_id',\n",
    "    'situation_id',\n",
    "    'title',\n",
    "    'status',\n",
    "    'collection_id',\n",
    "    'author_id'\n",
    "]\n",
    "\n",
    "df = df_in.drop(to_drop, axis = 1)\n",
    "df = df.set_index('id')"
   ]
  },
  {
   "cell_type": "code",
   "execution_count": null,
   "id": "c5a41e55",
   "metadata": {},
   "outputs": [],
   "source": [
    "def clean_string(string:str) -> str:\n",
    "    returnvalue = ''\n",
    "    if string is not None and not isinstance(string, float):\n",
    "        \n",
    "        # parse html\n",
    "        soup = BeautifulSoup(string, 'html.parser')\n",
    "        returnvalue = soup.getText()\n",
    "        \n",
    "        # remove '\\n'\n",
    "        returnvalue = returnvalue.replace('\\\\n', '')\n",
    "    return returnvalue"
   ]
  },
  {
   "cell_type": "code",
   "execution_count": null,
   "id": "6c5b0504",
   "metadata": {},
   "outputs": [],
   "source": [
    "for column in df.columns:  \n",
    "    df[column] = df[column].apply(clean_string)"
   ]
  },
  {
   "cell_type": "code",
   "execution_count": null,
   "id": "c84514cb",
   "metadata": {},
   "outputs": [],
   "source": [
    "# Create a new DataFrame with the length of each string field in words per record  \n",
    "df_stats = df.apply(lambda x: x.fillna('').str.split().apply(len)) \n",
    "summary_stats = df_stats.describe()\n",
    "for col in df_stats.columns:\n",
    "    summary_stats.loc['empty', col] = df_stats[col].value_counts(sort = False).get(0, 0)\n",
    "    summary_stats.loc['not_empty', col] = summary_stats.loc['count', col] - summary_stats.loc['empty', col]\n",
    "display(summary_stats)"
   ]
  },
  {
   "cell_type": "code",
   "execution_count": null,
   "id": "d83ffca0",
   "metadata": {},
   "outputs": [],
   "source": [
    "# Create a box and whisker plot\n",
    "plt.boxplot(df_stats)\n",
    "plt.xticks(rotation=45)\n",
    "plt.xticks(range(1, len(df_stats.columns) + 1), df_stats.columns)\n",
    "plt.show()"
   ]
  },
  {
   "cell_type": "code",
   "execution_count": null,
   "id": "ff49bf9b",
   "metadata": {},
   "outputs": [],
   "source": [
    "def word_count(string:str, returnvalue: Dict[str, int]) -> Dict[str, int]:\n",
    "    words = string.split()\n",
    "    for word in words:\n",
    "        key = word.lower().strip()\n",
    "        if key in returnvalue:\n",
    "            returnvalue[key] += 1\n",
    "        else:\n",
    "            returnvalue[key] = 1\n",
    "    return returnvalue"
   ]
  },
  {
   "cell_type": "code",
   "execution_count": null,
   "id": "aeed0636",
   "metadata": {},
   "outputs": [],
   "source": [
    "words_dict = {}\n",
    "\n",
    "for column in df:\n",
    "    for index, row in df.iterrows():\n",
    "            words_dict = word_count(row[column], words_dict)"
   ]
  },
  {
   "cell_type": "code",
   "execution_count": null,
   "id": "a3565675",
   "metadata": {},
   "outputs": [],
   "source": [
    "len(words_dict)"
   ]
  },
  {
   "cell_type": "code",
   "execution_count": null,
   "id": "6b916da3",
   "metadata": {},
   "outputs": [],
   "source": [
    "words_dict"
   ]
  },
  {
   "cell_type": "code",
   "execution_count": null,
   "id": "7fd5bb78",
   "metadata": {},
   "outputs": [],
   "source": [
    "#calculate the optimal distribution of bins according to Sturge\n",
    "def bins_sturge(data: List[int]) -> np.ndarray[int]:\n",
    "    k = int(np.ceil(np.log2(len(data))) + 1)\n",
    "    returnvalue = np.linspace(min(data), max(data), k) \n",
    "    return returnvalue\n",
    "\n",
    "#calculate the optimal distribution of bins according to Freedman-Draconis\n",
    "def bins_freedman_draconis(data: List[int]) -> np.ndarray[int]:\n",
    "    iqr = np.percentile(data, 75) - np.percentile(data, 25)\n",
    "    bin_width = (2 * iqr) / (len(data) ** (1 / 3))\n",
    "    returnvalue = np.arange(min(data), max(data), bin_width)\n",
    "    return returnvalue"
   ]
  },
  {
   "cell_type": "code",
   "execution_count": null,
   "id": "33961c2f",
   "metadata": {},
   "outputs": [],
   "source": [
    "# create a list of log-transformed frequencies  \n",
    "data = list(words_dict.values())\n",
    "  \n",
    "# create bins for the histogram  \n",
    "#bins = np.exp(bins_sturge(np.log(data)))\n",
    "bins = np.exp(bins_freedman_draconis(np.log(data)))\n",
    "\n",
    "# create the histogram  \n",
    "alpha = 1\n",
    "plt.hist(data, bins=bins, align='left', color = 'blue', alpha = alpha)\n",
    "  \n",
    "# add labels and title to the chart  \n",
    "plt.xlabel(\"Frequency (log scale)\")  \n",
    "plt.ylabel(\"Occurrences (log scale)\")  \n",
    "plt.title(\"Word Frequency Histogram\")  \n",
    "  \n",
    "# set the axis to a logarithmic scale  \n",
    "plt.xscale('log')  \n",
    "plt.yscale('log')  \n",
    "\n",
    "# display the chart  \n",
    "plt.show()\n",
    "\n"
   ]
  },
  {
   "cell_type": "code",
   "execution_count": null,
   "id": "962aaca1",
   "metadata": {},
   "outputs": [],
   "source": []
  }
 ],
 "metadata": {
  "kernelspec": {
   "display_name": "Python 3 (ipykernel)",
   "language": "python",
   "name": "python3"
  },
  "language_info": {
   "codemirror_mode": {
    "name": "ipython",
    "version": 3
   },
   "file_extension": ".py",
   "mimetype": "text/x-python",
   "name": "python",
   "nbconvert_exporter": "python",
   "pygments_lexer": "ipython3",
   "version": "3.11.3"
  }
 },
 "nbformat": 4,
 "nbformat_minor": 5
}
